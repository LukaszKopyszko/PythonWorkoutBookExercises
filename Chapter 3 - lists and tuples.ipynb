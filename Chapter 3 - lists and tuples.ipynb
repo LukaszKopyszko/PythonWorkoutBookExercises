{
 "cells": [
  {
   "cell_type": "code",
   "execution_count": 14,
   "metadata": {},
   "outputs": [
    {
     "name": "stdout",
     "output_type": "stream",
     "text": [
      "('H', 'w')\n",
      "([1], [7])\n",
      "((1,), (3,))\n"
     ]
    }
   ],
   "source": [
    "# Write a function, firstlast, that takes\n",
    "# a sequence (string, list, or tuple) and returns the first and last elements of that\n",
    "# sequence, in a two-element sequence of the same type. So firstlast('abc') will\n",
    "# return the string ac, while firstlast([1,2,3,4]) will return the list [1,4].\n",
    "\n",
    "def firstlast(sequence):\n",
    "    return sequence[:1], sequence[-1:]\n",
    "print(firstlast('Hellowdwadddw'))\n",
    "print(firstlast([1,2,3,4,5,6,7]))\n",
    "print(firstlast((1,2,3)))"
   ]
  },
  {
   "cell_type": "code",
   "execution_count": 19,
   "metadata": {},
   "outputs": [
    {
     "name": "stdout",
     "output_type": "stream",
     "text": [
      "6.25\n",
      "4\n"
     ]
    }
   ],
   "source": [
    "# Don’t write one function that squares integers, and another that squares floats.\n",
    "# Write one function that handles all numbers.\n",
    "\n",
    "def squaring(value):\n",
    "    return value**2\n",
    "print(squaring(2.5))\n",
    "print(squaring(2))"
   ]
  },
  {
   "cell_type": "code",
   "execution_count": 22,
   "metadata": {},
   "outputs": [
    {
     "name": "stdout",
     "output_type": "stream",
     "text": [
      "5\n",
      "w\n"
     ]
    }
   ],
   "source": [
    "# Don’t write one function that finds the largest element of a string, another that\n",
    "# does the same for a list, and a third that does the same for a tuple. Write just\n",
    "# one function that works on all of them.\n",
    "\n",
    "def largest(whatever):\n",
    "    return max(whatever)\n",
    "print(largest([1,2,3,4,5]))\n",
    "print(largest('akmkwmd'))"
   ]
  },
  {
   "cell_type": "code",
   "execution_count": 28,
   "metadata": {},
   "outputs": [
    {
     "name": "stdout",
     "output_type": "stream",
     "text": [
      "[210, 0]\n"
     ]
    }
   ],
   "source": [
    "# Write a function that takes a list or tuple of numbers. Return a two-element list,\n",
    "# containing (respectively) the sum of the even-indexed numbers and the sum of\n",
    "# the odd-indexed numbers. So calling the function as even_odd_sums([10, 20,\n",
    "# 30, 40, 50, 60]), you’ll get back [90, 120].\n",
    "\n",
    "def odd_even_sums(list_or_tuple):\n",
    "    sum_even = 0\n",
    "    sum_odd = 0\n",
    "    lista = []\n",
    "    for i in list_or_tuple:\n",
    "        if i %2 == 0:\n",
    "            sum_even += i\n",
    "        elif i%2 != 0:\n",
    "            sum_odd += i\n",
    "    lista.append(sum_even)\n",
    "    lista.append(sum_odd)\n",
    "    return lista\n",
    "print(odd_even_sums([10, 20, 30, 40, 50, 60]))    "
   ]
  },
  {
   "cell_type": "code",
   "execution_count": 34,
   "metadata": {},
   "outputs": [
    {
     "name": "stdout",
     "output_type": "stream",
     "text": [
      "[90, 120]\n"
     ]
    }
   ],
   "source": [
    "# Write a function that takes a list or tuple of numbers. Return a two-element list,\n",
    "# containing (respectively) the sum of the even-indexed numbers and the sum of\n",
    "# the odd-indexed numbers. So calling the function as even_odd_sums([10, 20,\n",
    "# 30, 40, 50, 60]), you’ll get back [90, 120].\n",
    "def indexes_even_odd(list_or_tuple):\n",
    "    n = len(list_or_tuple)\n",
    "    sum_even = 0\n",
    "    sum_odd = 0\n",
    "    final_list = []\n",
    "    for i in range(n):\n",
    "        if i %2 == 0:\n",
    "            sum_even += list_or_tuple[i]\n",
    "        elif i%2 != 0:\n",
    "            sum_odd += list_or_tuple[i]\n",
    "    final_list.append(sum_even)\n",
    "    final_list.append(sum_odd)\n",
    "    return final_list\n",
    "print(indexes_even_odd([10, 20, 30, 40, 50, 60]))"
   ]
  },
  {
   "cell_type": "code",
   "execution_count": 65,
   "metadata": {},
   "outputs": [
    {
     "name": "stdout",
     "output_type": "stream",
     "text": [
      "-20\n"
     ]
    }
   ],
   "source": [
    "# Write a function that takes a list or tuple of numbers. Return the result of alternately adding\n",
    "# and subtracting numbers from each other. So calling the function as plus_minus([10, 20, 30, 40, 50, 60]),\n",
    "# you’ll get back the result of 10+20-30+40-50+60, or 50.\n",
    "\n",
    "def plus_minus(list_or_tuple):\n",
    "    result = 0\n",
    "    n = len(list_or_tuple)\n",
    "    for i in range(n):\n",
    "        if i > 1 and i%2 == 0:\n",
    "            result -= list_or_tuple[i]\n",
    "        else:\n",
    "            result += list_or_tuple[i]\n",
    "    return result\n",
    "print(plus_minus([10, 20, 30, 40, 50, 60, 70]))"
   ]
  },
  {
   "cell_type": "code",
   "execution_count": 145,
   "metadata": {},
   "outputs": [
    {
     "data": {
      "text/plain": [
       "[(1, 'a', 1, 'a'), (2, 'f', 2, 'b'), (3, 'h', 3, 'c'), (4, 'j', 4, 'd')]"
      ]
     },
     "execution_count": 145,
     "metadata": {},
     "output_type": "execute_result"
    }
   ],
   "source": [
    "#Write a function that partly emulates the built-in zip function (http://mng.bz/\n",
    "#Jyzv), taking any number of iterables and returning a list of tuples. Each tuple\n",
    "#will contain one element from each of the iterables passed to the function.\n",
    "#Thus, if I call myzip([10, 20,30], 'abc'), the result will be [(10, 'a'), (20,\n",
    "#'b'), (30, 'c')]. You can return a list (not an iterator) and can assume that all\n",
    "#of the iterables are of the same length.\n",
    "\n",
    "def myzip(*iterables):\n",
    "    new_list = []\n",
    "    n = len(iterables[0])\n",
    "    for i in range(n):\n",
    "        new_item = tuple(iterable[i] for iterable in iterables)\n",
    "        new_list.append(new_item)\n",
    "    return new_list    \n",
    "myzip([1,2,3,4], 'afhj',[1,2,3,4],'abcd') "
   ]
  },
  {
   "cell_type": "code",
   "execution_count": 150,
   "metadata": {},
   "outputs": [
    {
     "data": {
      "text/plain": [
       "[1, 2, 3, 1, 2, 3, 1, 4, 5, 6, 7, 8]"
      ]
     },
     "execution_count": 150,
     "metadata": {},
     "output_type": "execute_result"
    }
   ],
   "source": [
    "# This challenge asks you to redefine the mysum function we defined in chapter 1,\n",
    "# such that it can take any number of arguments. The arguments must all be of the\n",
    "# same type and know how to respond to the + operator. (Thus, the function should\n",
    "# work with numbers, strings, lists, and tuples, but not with sets and dicts.)\n",
    "\n",
    "def mysum(*items):\n",
    "    if not items:\n",
    "        return items\n",
    "    output = items[0]\n",
    "    for item in items[1:]:\n",
    "        output += item\n",
    "    return output    \n",
    "mysum([1,2,3], [1,2,3], [1,4,5,6,7,8])    "
   ]
  },
  {
   "cell_type": "code",
   "execution_count": 167,
   "metadata": {},
   "outputs": [
    {
     "name": "stdout",
     "output_type": "stream",
     "text": [
      "jz\n",
      "50\n"
     ]
    }
   ],
   "source": [
    "# Write a function, mysum_bigger_than, that works the same as mysum, except that\n",
    "# it takes a first argument that precedes *args. That argument indicates the\n",
    "# threshold for including an argument in the sum. Thus, calling mysum_bigger\n",
    "# _than(10, 5, 20, 30, 6) would return 50—because 5 and 6 aren’t greater than\n",
    "# 10. This function should similarly work with any type and assumes that all of the\n",
    "# arguments are of the same type. Note that > and < work on many different types\n",
    "# in Python, not just on numbers; with strings, lists, and tuples, it refers to their\n",
    "# sort order.\n",
    "\n",
    "def mysum_bigger_than(*arguments):\n",
    "    if not arguments:\n",
    "        return arguments\n",
    "    sum_items = arguments[0]\n",
    "    for i in arguments[1:]:\n",
    "        if i < arguments[0]:\n",
    "            pass\n",
    "        else:\n",
    "            sum_items += i\n",
    "    if type(sum_items) == str:\n",
    "        sum_items = sum_items[1:]\n",
    "    elif type(sum_items) == int:\n",
    "        sum_items = sum_items - arguments[0]\n",
    "    return sum_items\n",
    "print(mysum_bigger_than('i','j','a','b','z'))\n",
    "print(mysum_bigger_than(10, 5, 20, 30, 6))\n",
    "\n",
    "    "
   ]
  },
  {
   "cell_type": "code",
   "execution_count": 188,
   "metadata": {
    "scrolled": true
   },
   "outputs": [
    {
     "data": {
      "text/plain": [
       "31"
      ]
     },
     "execution_count": 188,
     "metadata": {},
     "output_type": "execute_result"
    }
   ],
   "source": [
    "# Write a function, sum_numeric, that takes any number of arguments. If the\n",
    "# argument is or can be turned into an integer, then it should be added to the\n",
    "# total. Arguments that can’t be handled as integers should be ignored. The\n",
    "# result is the sum of the numbers. Thus, sum_numeric(10, 20, 'a', '30',\n",
    "# 'bcd') would return 60. Notice that even if the string 30 is an element in the\n",
    "# list, it’s converted into an integer and added to the total.\n",
    "\n",
    "def sum_numeric(*args):\n",
    "    total = 0\n",
    "    for i in args:\n",
    "        if type(i) == int:\n",
    "            total += i\n",
    "        elif i.isnumeric():\n",
    "            i = int(i)\n",
    "            total += i \n",
    "        else:\n",
    "            pass\n",
    "    return total\n",
    "sum_numeric(1,2,3,'20','d',5)"
   ]
  },
  {
   "cell_type": "code",
   "execution_count": null,
   "metadata": {},
   "outputs": [],
   "source": [
    "# Write a function that takes a list of dicts and returns a single dict that combines\n",
    "# all of the keys and values. If a key appears in more than one argument, the\n",
    "# value should be a list containing all of the values from the arguments.\n",
    "\n",
    "def dicts_to_dict(list_of_dicts):\n",
    "    "
   ]
  },
  {
   "cell_type": "code",
   "execution_count": null,
   "metadata": {},
   "outputs": [],
   "source": []
  }
 ],
 "metadata": {
  "kernelspec": {
   "display_name": "Python 3",
   "language": "python",
   "name": "python3"
  },
  "language_info": {
   "codemirror_mode": {
    "name": "ipython",
    "version": 3
   },
   "file_extension": ".py",
   "mimetype": "text/x-python",
   "name": "python",
   "nbconvert_exporter": "python",
   "pygments_lexer": "ipython3",
   "version": "3.8.5"
  }
 },
 "nbformat": 4,
 "nbformat_minor": 4
}
