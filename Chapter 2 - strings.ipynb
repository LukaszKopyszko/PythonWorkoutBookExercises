{
 "cells": [
  {
   "cell_type": "code",
   "execution_count": 1,
   "metadata": {},
   "outputs": [],
   "source": [
    "## CHAPTER 2 - strings\n",
    "### EXCERCISE 5 - pig latin"
   ]
  },
  {
   "cell_type": "code",
   "execution_count": 2,
   "metadata": {},
   "outputs": [
    {
     "name": "stdout",
     "output_type": "stream",
     "text": [
      "Enter your word: Pain\n",
      "ainpay\n"
     ]
    }
   ],
   "source": [
    "vowels = ['a','e','i','o','u']\n",
    "def pig_latin():\n",
    "    word = str(input(\"Enter your word: \").lower())\n",
    "    if word[0] in vowels:\n",
    "        word += 'way'\n",
    "        print(f'This is your word in pig latin: {word}')\n",
    "    else:\n",
    "        print((f'{word[1:]}{word[0]}ay'))\n",
    "pig_latin()"
   ]
  },
  {
   "cell_type": "code",
   "execution_count": 151,
   "metadata": {},
   "outputs": [
    {
     "name": "stdout",
     "output_type": "stream",
     "text": [
      "Enter your word: kfnksefneslkfe?\n",
      "fnksefneslkfekay?\n"
     ]
    }
   ],
   "source": [
    "## SAME BUT if first letter is upper then return strings as upper and if last element is punctuation then print it at the end\n",
    "vowels = ['a','e','i','o','u']\n",
    "punctuations = [',','.',':',';','?','!']\n",
    "def pig_latin():\n",
    "    word = str(input(\"Enter your word: \"))\n",
    "    if word[0].isupper():\n",
    "        word = word.lower()\n",
    "        if word[0] in vowels:\n",
    "            if word[-1] in punctuations:\n",
    "                print((f'This is your word in pig latin: {word[:-1]}way{word[-1]}').upper())\n",
    "            else:\n",
    "                print((f'This is your word in pig latin: {word}way').upper())\n",
    "        else:\n",
    "            if word[-1] in punctuations:\n",
    "                print((f'{word[1:-1]}{word[0]}ay{word[-1]}').upper())\n",
    "            else:    \n",
    "                print((f'{word[1:]}{word[0]}ay').upper())\n",
    "    else:\n",
    "        word = word.lower()\n",
    "        if word[0] in vowels:\n",
    "            if word[-1] in punctuations:\n",
    "                print(f'This is your word in pig latin: {word[:-1]}way{word[-1]}')\n",
    "            else:\n",
    "                print(f'This is your word in pig latin: {word}way')\n",
    "        else:\n",
    "            if word[-1] in punctuations:\n",
    "                print((f'{word[1:-1]}{word[0]}ay{word[-1]}'))\n",
    "            else:    \n",
    "                print(f'{word[1:]}{word[0]}ay')  \n",
    "pig_latin()  "
   ]
  },
  {
   "cell_type": "code",
   "execution_count": 150,
   "metadata": {},
   "outputs": [
    {
     "name": "stdout",
     "output_type": "stream",
     "text": [
      "Enter your word: adnjkwndwjdwa?\n",
      "This is your word in pig latin: adnjkwndwjdwa?way\n"
     ]
    }
   ],
   "source": [
    "### Consider an alternative version of Pig Latin—We don’t check to see if the first letter\n",
    "### is a vowel, but, rather, we check to see if the word contains two different vowels.\n",
    "### If it does, we don’t move the first letter to the end. Because the word “wine”\n",
    "### contains two different vowels (“i” and “e”), we’ll add “way” to the end of it, giving us “wineway.” \n",
    "### By contrast, the word “wind” contains only one vowel, so we\n",
    "### would move the first letter to the end and add “ay,” rendering it “indway.” How\n",
    "### would you check for two different vowels in the word? (Hint: sets can come in\n",
    "### handy here.)\n",
    "vowels = ['a','e','i','o','u']\n",
    "def pig_latin():\n",
    "    vowels_count = 0\n",
    "    word = str(input(\"Enter your word: \").lower())\n",
    "    for c in word:\n",
    "        if c in vowels:\n",
    "            vowels_count += 1\n",
    "    if vowels_count > 1:\n",
    "        print(f'This is your word in pig latin: {word}way')\n",
    "    elif vowels_count == 1:\n",
    "        print((f'{word[1:]}{word[0]}ay'))        \n",
    "    else:\n",
    "        print((f'There are no vowels in {word}'))\n",
    "pig_latin()"
   ]
  },
  {
   "cell_type": "code",
   "execution_count": 5,
   "metadata": {},
   "outputs": [],
   "source": [
    "### EXERCISE 6 ■ Pig Latin sentence"
   ]
  },
  {
   "cell_type": "code",
   "execution_count": 7,
   "metadata": {},
   "outputs": [
    {
     "name": "stdout",
     "output_type": "stream",
     "text": [
      "Give me your sentence: it was a very funny day with my friends we were skying and playing football on frozen pitch\n"
     ]
    },
    {
     "data": {
      "text/plain": [
       "'itway asway away eryvay unnyfay ayday ithway ymay riendsfay eway ereway kyingsay andway layingpay ootballfay onway rozenfay itchpay'"
      ]
     },
     "execution_count": 7,
     "metadata": {},
     "output_type": "execute_result"
    }
   ],
   "source": [
    "vowels = ['a','e','i','o','u']\n",
    "def pl_sentence():\n",
    "    sentence_list = []\n",
    "    sentence = str(input(\"Give me your sentence: \"))\n",
    "    for word in sentence.split():\n",
    "        if word[0] in vowels:\n",
    "            sentence_list.append(f'{word}way')\n",
    "        else:\n",
    "            sentence_list.append(f'{word[1:]}{word[0]}ay')\n",
    "    pig_latin_sentence = ' '.join(sentence_list)\n",
    "    return pig_latin_sentence\n",
    "pl_sentence()\n",
    "            "
   ]
  },
  {
   "cell_type": "markdown",
   "metadata": {},
   "source": [
    "UNSOLVED"
   ]
  },
  {
   "cell_type": "code",
   "execution_count": 9,
   "metadata": {},
   "outputs": [],
   "source": [
    "### Take a text file, creating (and printing) a nonsensical sentence from the nth\n",
    "### word on each of the first 10 lines, where n is the line number.\n",
    "# Write a function that transposes a list of strings, in which each string contains\n",
    "#multiple words separated by whitespace. Specifically, it should perform in such a\n",
    "#way that if you were to pass the list ['abc def ghi', 'jkl mno pqr', 'stu vwx yz']\n",
    "#to the function, it would return ['abc jkl stu', 'def mno vwx', 'ghi pqr yz'].\n",
    "## Read through an Apache logfile. If there is a 404 error—you can just search for\n",
    "##' 404 ', if you want—display the IP address, which should be the first element."
   ]
  },
  {
   "cell_type": "code",
   "execution_count": 48,
   "metadata": {},
   "outputs": [
    {
     "ename": "AttributeError",
     "evalue": "'list' object has no attribute 'split'",
     "output_type": "error",
     "traceback": [
      "\u001b[1;31m---------------------------------------------------------------------------\u001b[0m",
      "\u001b[1;31mAttributeError\u001b[0m                            Traceback (most recent call last)",
      "\u001b[1;32m<ipython-input-48-0b4f36044f57>\u001b[0m in \u001b[0;36m<module>\u001b[1;34m\u001b[0m\n\u001b[0;32m      4\u001b[0m         \u001b[0mwords\u001b[0m \u001b[1;33m=\u001b[0m \u001b[0mf\u001b[0m\u001b[1;33m.\u001b[0m\u001b[0mreadlines\u001b[0m\u001b[1;33m(\u001b[0m\u001b[1;33m)\u001b[0m\u001b[1;33m.\u001b[0m\u001b[0msplit\u001b[0m\u001b[1;33m(\u001b[0m\u001b[1;33m)\u001b[0m\u001b[1;33m\u001b[0m\u001b[1;33m\u001b[0m\u001b[0m\n\u001b[0;32m      5\u001b[0m         \u001b[0mprint\u001b[0m\u001b[1;33m(\u001b[0m\u001b[0mwords\u001b[0m\u001b[1;33m)\u001b[0m\u001b[1;33m\u001b[0m\u001b[1;33m\u001b[0m\u001b[0m\n\u001b[1;32m----> 6\u001b[1;33m \u001b[0mnonsensical\u001b[0m\u001b[1;33m(\u001b[0m\u001b[1;33m)\u001b[0m\u001b[1;33m\u001b[0m\u001b[1;33m\u001b[0m\u001b[0m\n\u001b[0m",
      "\u001b[1;32m<ipython-input-48-0b4f36044f57>\u001b[0m in \u001b[0;36mnonsensical\u001b[1;34m()\u001b[0m\n\u001b[0;32m      2\u001b[0m     \u001b[1;32mwith\u001b[0m \u001b[0mopen\u001b[0m\u001b[1;33m(\u001b[0m\u001b[1;34m'text_file.txt'\u001b[0m\u001b[1;33m,\u001b[0m\u001b[1;34m'r'\u001b[0m\u001b[1;33m)\u001b[0m \u001b[1;32mas\u001b[0m \u001b[0mf\u001b[0m\u001b[1;33m:\u001b[0m\u001b[1;33m\u001b[0m\u001b[1;33m\u001b[0m\u001b[0m\n\u001b[0;32m      3\u001b[0m         \u001b[0mn\u001b[0m \u001b[1;33m=\u001b[0m \u001b[1;36m3\u001b[0m\u001b[1;33m\u001b[0m\u001b[1;33m\u001b[0m\u001b[0m\n\u001b[1;32m----> 4\u001b[1;33m         \u001b[0mwords\u001b[0m \u001b[1;33m=\u001b[0m \u001b[0mf\u001b[0m\u001b[1;33m.\u001b[0m\u001b[0mreadlines\u001b[0m\u001b[1;33m(\u001b[0m\u001b[1;33m)\u001b[0m\u001b[1;33m.\u001b[0m\u001b[0msplit\u001b[0m\u001b[1;33m(\u001b[0m\u001b[1;33m)\u001b[0m\u001b[1;33m\u001b[0m\u001b[1;33m\u001b[0m\u001b[0m\n\u001b[0m\u001b[0;32m      5\u001b[0m         \u001b[0mprint\u001b[0m\u001b[1;33m(\u001b[0m\u001b[0mwords\u001b[0m\u001b[1;33m)\u001b[0m\u001b[1;33m\u001b[0m\u001b[1;33m\u001b[0m\u001b[0m\n\u001b[0;32m      6\u001b[0m \u001b[0mnonsensical\u001b[0m\u001b[1;33m(\u001b[0m\u001b[1;33m)\u001b[0m\u001b[1;33m\u001b[0m\u001b[1;33m\u001b[0m\u001b[0m\n",
      "\u001b[1;31mAttributeError\u001b[0m: 'list' object has no attribute 'split'"
     ]
    }
   ],
   "source": [
    "def nonsensical():\n",
    "    with open('text_file.txt','r') as f:\n",
    "        n = 3\n",
    "        words = f.readlines()\n",
    "        print(words)\n",
    "nonsensical()    "
   ]
  },
  {
   "cell_type": "code",
   "execution_count": null,
   "metadata": {},
   "outputs": [],
   "source": [
    "## EXERCISE 7 - UBBI DUBBI - For every vowel in a string, add \"ub\" before it, Handle Big letters"
   ]
  },
  {
   "cell_type": "code",
   "execution_count": 152,
   "metadata": {},
   "outputs": [
    {
     "name": "stdout",
     "output_type": "stream",
     "text": [
      "Give me your word: asKdmkad\n"
     ]
    },
    {
     "data": {
      "text/plain": [
       "'UBASKDMKUBAD'"
      ]
     },
     "execution_count": 152,
     "metadata": {},
     "output_type": "execute_result"
    }
   ],
   "source": [
    "vowels = ['a','e','i','o','u','A','E','I','O','U']\n",
    "interception = ['?','!',';','.',',']\n",
    "def ubbidubbi():\n",
    "    word = str(input(\"Give me your word: \"))\n",
    "    ubbi_word = []\n",
    "    if any(c.isupper() for c in word):\n",
    "        for c in word:\n",
    "            if c[0] in vowels:\n",
    "                ubbi_word.append((f'UB{c}').upper())\n",
    "            else:\n",
    "                ubbi_word.append(c.upper())\n",
    "        if any(c in interception for c in ubbi_word):\n",
    "            ubbi_word.remove(c)\n",
    "            ubbi_word.insert(-1,-c)\n",
    "        return ''.join(ubbi_word)        \n",
    "    else:\n",
    "        for c in word:\n",
    "            if c in vowels:\n",
    "                ubbi_word.append((f'ub{c}').lower())\n",
    "            else:\n",
    "                ubbi_word.append(c.lower())\n",
    "        if any(c in interception for c in ubbi_word):\n",
    "            ubbi_word.remove(c)\n",
    "            ubbi_word.insert(-1,c)\n",
    "            return ''.join(ubbi_word)\n",
    "        else:\n",
    "            pass\n",
    "        return ''.join(ubbi_word)\n",
    "ubbidubbi()"
   ]
  },
  {
   "cell_type": "code",
   "execution_count": 116,
   "metadata": {},
   "outputs": [],
   "source": [
    "## REMOVE AUTHORs NAMES from article having article as string and list with names"
   ]
  },
  {
   "cell_type": "code",
   "execution_count": 138,
   "metadata": {},
   "outputs": [
    {
     "data": {
      "text/plain": [
       "'Dawno temu _ _ _ _ _  to zrobił a _ _ _ _ _ _  nie wiedzial o co tak naprawde chodzi to juz dziwne ze tak dlugo to trwa a _ _ _ _ _ _  nic nie wie _ _ _ _ _ _  nadal'"
      ]
     },
     "execution_count": 138,
     "metadata": {},
     "output_type": "execute_result"
    }
   ],
   "source": [
    "#authors = ['Kamil','Marek','Michał','Karol']\n",
    "#article = \"Dawno temu Kamil to zrobił a Michał nie wiedzial o co tak naprawde chodzi to juz dziwne ze tak dlugo to trwa a Karol nic nie wie nadal\"\n",
    "\n",
    "def article_cleaning(article, authors):\n",
    "    cleared = []\n",
    "    for i in article.split(' '):\n",
    "        if i in authors:\n",
    "            cleared.append('_ '*len(i))\n",
    "        else: \n",
    "            cleared.append(i)\n",
    "    return ' '.join(cleared)        \n",
    "article_cleaning((\"Dawno temu Kamil to zrobił a Michał nie wiedzial o co tak naprawde chodzi to juz dziwne ze tak dlugo to trwa a Łukasz nic nie wie Marcin nadal\"),['Kamil','Marek','Michał','Marcin','Łukasz'])    "
   ]
  },
  {
   "cell_type": "code",
   "execution_count": null,
   "metadata": {},
   "outputs": [],
   "source": [
    "### EXERCISE 8 ■ Sorting a string"
   ]
  },
  {
   "cell_type": "code",
   "execution_count": 148,
   "metadata": {},
   "outputs": [
    {
     "name": "stdout",
     "output_type": "stream",
     "text": [
      "   01222233ffjjnnnr\n"
     ]
    }
   ],
   "source": [ "###  Given the string “Tom Dick Harry,” break it into individual words, and then sort",
"### those words alphabetically. Once they’re sorted, print them with commas (,)","### between the names.",
    "def sortstr(text):\n",
    "    listed = []\n",
    "    for c in text:\n",
    "        listed.append(c)\n",
    "    srtstr = sorted(listed)\n",
    "    print(''.join(srtstr))\n",
    "sortstr(\"22323nrnjjfn 10 2f \")    "
   ]
  },
  {
   "cell_type": "code",
   "execution_count": 166,
   "metadata": {},
   "outputs": [
    {
     "data": {
      "text/plain": [
       "'Kalor, Maekr, Machił'"
      ]
     },
     "execution_count": 166,
     "metadata": {},
     "output_type": "execute_result"
    }
   ],
   "source": [
    "def full_string_sort(text):\n",
    "    listed = []\n",
    "    string = ''\n",
    "    next_list = []\n",
    "    for c in text.split(' '):\n",
    "        listed.append(sorted(c))\n",
    "    for c in listed:\n",
    "        next_list.append(''.join(c))\n",
    "    return ', '.join(next_list)\n",
    "full_string_sort(\"Karol Marek Michał\")\n",
    "        "
   ]
  },
  {
   "cell_type": "code",
   "execution_count": null,
   "metadata": {},
   "outputs": [],
   "source": []
  }
 ],
 "metadata": {
  "kernelspec": {
   "display_name": "Python 3",
   "language": "python",
   "name": "python3"
  },
  "language_info": {
   "codemirror_mode": {
    "name": "ipython",
    "version": 3
   },
   "file_extension": ".py",
   "mimetype": "text/x-python",
   "name": "python",
   "nbconvert_exporter": "python",
   "pygments_lexer": "ipython3",
   "version": "3.8.5"
  }
 },
 "nbformat": 4,
 "nbformat_minor": 4
}
