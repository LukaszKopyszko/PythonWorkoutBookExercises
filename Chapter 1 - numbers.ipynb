{
 "cells": [
  {
   "cell_type": "code",
   "execution_count": 1,
   "metadata": {},
   "outputs": [],
   "source": [
    "## EXCERCISE 1 - GUESSING GAME"
   ]
  },
  {
   "cell_type": "code",
   "execution_count": 13,
   "metadata": {},
   "outputs": [
    {
     "name": "stdout",
     "output_type": "stream",
     "text": [
      "This is your 1 chance!\n",
      "Choose a number from 0 to 100: 45\n",
      "45 is too big!\n",
      "This is your 2 chance!\n",
      "Choose a number from 0 to 100: 34\n",
      "34 is too big!\n",
      "This is your 3 chance!\n",
      "Choose a number from 0 to 100: 45\n",
      "45 is too big!\n",
      "You lost!\n"
     ]
    }
   ],
   "source": [
    "import random\n",
    "def guessing_game():\n",
    "    to_guess = random.randint(0,100)\n",
    "    chance = 0\n",
    "    while True:\n",
    "        chance += 1\n",
    "        if chance <= 3:\n",
    "            print(f\"This is your {chance} chance!\")\n",
    "            user_num = int(input(\"Choose a number from 0 to 100: \"))\n",
    "            if user_num > to_guess:\n",
    "                print(f\"{user_num} is too big!\")\n",
    "            elif user_num < to_guess:\n",
    "                print(f\"{user_num} is too low!\")\n",
    "            else:\n",
    "                print(f\"Just right! {user_num} is a good answer!\")\n",
    "                break\n",
    "        else:\n",
    "            print(\"You lost!\")\n",
    "            break\n",
    "guessing_game()            "
   ]
  },
  {
   "cell_type": "code",
   "execution_count": 15,
   "metadata": {},
   "outputs": [],
   "source": [
    "## EXCERCISE 2 - SUMMING WITHOUT SUM FUNC\n",
    "# using *args"
   ]
  },
  {
   "cell_type": "code",
   "execution_count": 16,
   "metadata": {},
   "outputs": [
    {
     "name": "stdout",
     "output_type": "stream",
     "text": [
      "270\n",
      "694\n"
     ]
    }
   ],
   "source": [
    "def sum_num(*numbers):\n",
    "    result = 0\n",
    "    for number in numbers:\n",
    "        result += number\n",
    "    return result\n",
    "sum_num(20,30,40,50,60,70)\n",
    "sum_num(30,660,1,3)"
   ]
  },
  {
   "cell_type": "code",
   "execution_count": 17,
   "metadata": {},
   "outputs": [],
   "source": [
    "### different way like in real sum() func"
   ]
  },
  {
   "cell_type": "code",
   "execution_count": 19,
   "metadata": {},
   "outputs": [
    {
     "name": "stdout",
     "output_type": "stream",
     "text": [
      "10\n",
      "9\n"
     ]
    }
   ],
   "source": [
    "def sum_num(numbers, default = 0):\n",
    "    result = default\n",
    "    for number in numbers:\n",
    "        result += number\n",
    "    return result\n",
    "sum_num([1,2,3],4)\n",
    "sum_num([2,3,4])"
   ]
  },
  {
   "cell_type": "code",
   "execution_count": 20,
   "metadata": {},
   "outputs": [],
   "source": [
    "###  Write a function that takes a list of numbers. It should return the average (i.e., arithmetic mean) of those numbers."
   ]
  },
  {
   "cell_type": "code",
   "execution_count": 31,
   "metadata": {},
   "outputs": [
    {
     "name": "stdout",
     "output_type": "stream",
     "text": [
      "2\n",
      "3\n"
     ]
    }
   ],
   "source": [
    "import statistics\n",
    "def sum_num(numbers):\n",
    "    mean_num = statistics.mean(numbers)\n",
    "    return mean_num\n",
    "print(sum_num([1,2,3]))\n",
    "print(sum_num([2,3,4]))"
   ]
  },
  {
   "cell_type": "code",
   "execution_count": 40,
   "metadata": {},
   "outputs": [],
   "source": [
    "### Write a function that takes a list of words (strings). \n",
    "### It should return a tuple containing three integers, representing the length of the shortest word,\n",
    "### the length of the longest word, and the average word length."
   ]
  },
  {
   "cell_type": "code",
   "execution_count": 43,
   "metadata": {
    "scrolled": true
   },
   "outputs": [
    {
     "data": {
      "text/plain": [
       "(8, 3, 5)"
      ]
     },
     "execution_count": 43,
     "metadata": {},
     "output_type": "execute_result"
    }
   ],
   "source": [
    "def strings(text):\n",
    "    longest = len(max(text, key = len))\n",
    "    shortest = len(min(text, key = len))\n",
    "    lenghts = []\n",
    "    for word in text:\n",
    "        lenghts.append(len(word))\n",
    "    average = statistics.mean(lenghts)\n",
    "    my_tuple = (longest, shortest, average)\n",
    "    return my_tuple\n",
    "    \n",
    "strings(['top','nope','heeyyyyy'])    "
   ]
  },
  {
   "cell_type": "code",
   "execution_count": 44,
   "metadata": {},
   "outputs": [],
   "source": [
    "### Write a function that takes a list of Python objects.\n",
    "### Sum the objects that either are integers or can be turned into integers, ignoring the others."
   ]
  },
  {
   "cell_type": "code",
   "execution_count": 52,
   "metadata": {},
   "outputs": [
    {
     "data": {
      "text/plain": [
       "17.4"
      ]
     },
     "execution_count": 52,
     "metadata": {},
     "output_type": "execute_result"
    }
   ],
   "source": [
    "def types(different_types):\n",
    "    sum_types = 0\n",
    "    for x in different_types:\n",
    "        if type(x) == int or type(x) == float or type(x) == bool:\n",
    "            sum_types += x\n",
    "        else:\n",
    "            pass\n",
    "    return sum_types\n",
    "types([5,10,1.4,True,False,'Hello!'])"
   ]
  },
  {
   "cell_type": "code",
   "execution_count": 54,
   "metadata": {},
   "outputs": [],
   "source": [
    "### EXCERCISE 3\n",
    "### Write a function (run_timing) that asks how long it took for you to run 10 km.\n",
    "### The function continues to ask how long (in minutes) it took for additional runs,\n",
    "### until the user presses Enter. \n",
    "### At that point, the function exits--but only after calculating and displaying the average time that the 10 km runs took."
   ]
  },
  {
   "cell_type": "code",
   "execution_count": 72,
   "metadata": {},
   "outputs": [
    {
     "name": "stdout",
     "output_type": "stream",
     "text": [
      "Enter 10 km run time: 34\n",
      "Enter 10 km run time: 453\n",
      "Enter 10 km run time: 45\n",
      "Enter 10 km run time: 454\n",
      "Enter 10 km run time: \n",
      "Average of 246.5, over 4 runs\n"
     ]
    }
   ],
   "source": [
    "def run_timing():\n",
    " \n",
    "    number_of_runs = 0\n",
    "    total_time = 0\n",
    " \n",
    "    while True:\n",
    "        one_run = input('Enter 10 km run time: ')\n",
    " \n",
    "        if not one_run:\n",
    "             break\n",
    " \n",
    "        number_of_runs += 1\n",
    "        total_time += float(one_run)\n",
    " \n",
    "    average_time = total_time / number_of_runs\n",
    " \n",
    "    print(f'Average of {average_time}, over {number_of_runs} runs')\n",
    "\n",
    "run_timing()"
   ]
  },
  {
   "cell_type": "markdown",
   "metadata": {},
   "source": [
    "## TO DO"
   ]
  },
  {
   "cell_type": "code",
   "execution_count": 83,
   "metadata": {},
   "outputs": [
    {
     "ename": "ValueError",
     "evalue": "Format specifier missing precision",
     "output_type": "error",
     "traceback": [
      "\u001b[1;31m---------------------------------------------------------------------------\u001b[0m",
      "\u001b[1;31mValueError\u001b[0m                                Traceback (most recent call last)",
      "\u001b[1;32m<ipython-input-83-700552a259f9>\u001b[0m in \u001b[0;36m<module>\u001b[1;34m\u001b[0m\n\u001b[0;32m      1\u001b[0m \u001b[1;32mdef\u001b[0m \u001b[0mconverter\u001b[0m\u001b[1;33m(\u001b[0m\u001b[0ma\u001b[0m\u001b[1;33m,\u001b[0m\u001b[0mafter\u001b[0m\u001b[1;33m)\u001b[0m\u001b[1;33m:\u001b[0m\u001b[1;33m\u001b[0m\u001b[1;33m\u001b[0m\u001b[0m\n\u001b[0;32m      2\u001b[0m     \u001b[0mprint\u001b[0m\u001b[1;33m(\u001b[0m\u001b[1;34mf'{a:.afterf}'\u001b[0m\u001b[1;33m)\u001b[0m\u001b[1;33m\u001b[0m\u001b[1;33m\u001b[0m\u001b[0m\n\u001b[1;32m----> 3\u001b[1;33m \u001b[0mconverter\u001b[0m\u001b[1;33m(\u001b[0m\u001b[1;36m123.3333\u001b[0m\u001b[1;33m,\u001b[0m\u001b[1;36m3\u001b[0m\u001b[1;33m)\u001b[0m\u001b[1;33m\u001b[0m\u001b[1;33m\u001b[0m\u001b[0m\n\u001b[0m",
      "\u001b[1;32m<ipython-input-83-700552a259f9>\u001b[0m in \u001b[0;36mconverter\u001b[1;34m(a, after)\u001b[0m\n\u001b[0;32m      1\u001b[0m \u001b[1;32mdef\u001b[0m \u001b[0mconverter\u001b[0m\u001b[1;33m(\u001b[0m\u001b[0ma\u001b[0m\u001b[1;33m,\u001b[0m\u001b[0mafter\u001b[0m\u001b[1;33m)\u001b[0m\u001b[1;33m:\u001b[0m\u001b[1;33m\u001b[0m\u001b[1;33m\u001b[0m\u001b[0m\n\u001b[1;32m----> 2\u001b[1;33m     \u001b[0mprint\u001b[0m\u001b[1;33m(\u001b[0m\u001b[1;34mf'{a:.afterf}'\u001b[0m\u001b[1;33m)\u001b[0m\u001b[1;33m\u001b[0m\u001b[1;33m\u001b[0m\u001b[0m\n\u001b[0m\u001b[0;32m      3\u001b[0m \u001b[0mconverter\u001b[0m\u001b[1;33m(\u001b[0m\u001b[1;36m123.3333\u001b[0m\u001b[1;33m,\u001b[0m\u001b[1;36m3\u001b[0m\u001b[1;33m)\u001b[0m\u001b[1;33m\u001b[0m\u001b[1;33m\u001b[0m\u001b[0m\n",
      "\u001b[1;31mValueError\u001b[0m: Format specifier missing precision"
     ]
    }
   ],
   "source": [
    "def converter(a,after):\n",
    "    print(f'{a:.afterf}')\n",
    "converter(123.3333,3)    "
   ]
  },
  {
   "cell_type": "code",
   "execution_count": 89,
   "metadata": {},
   "outputs": [
    {
     "name": "stdout",
     "output_type": "stream",
     "text": [
      "Give me first float: 0.1\n",
      "Give me first float: 0.2\n"
     ]
    },
    {
     "data": {
      "text/plain": [
       "0.3"
      ]
     },
     "execution_count": 89,
     "metadata": {},
     "output_type": "execute_result"
    }
   ],
   "source": [
    "from decimal import *\n",
    "def dec():\n",
    "    a = Decimal(input(\"Give me first float: \"))\n",
    "    b = Decimal(input(\"Give me first float: \"))\n",
    "    suma = a+b\n",
    "    suma = float(suma)\n",
    "    return(suma)\n",
    "dec()"
   ]
  },
  {
   "cell_type": "code",
   "execution_count": 90,
   "metadata": {},
   "outputs": [],
   "source": [
    "### EXCERCISE 4 - HEXADECIMAL OUTPUT"
   ]
  },
  {
   "cell_type": "code",
   "execution_count": 103,
   "metadata": {},
   "outputs": [
    {
     "name": "stdout",
     "output_type": "stream",
     "text": [
      "Enter a hex number to convert: 23214124\n",
      "589381924\n"
     ]
    }
   ],
   "source": [
    "def hex_output():\n",
    "    decnum = 0\n",
    "    hexnum = input('Enter a hex number to convert: ')\n",
    "    for power, digit in enumerate(reversed(hexnum)):\n",
    "         decnum += int(digit, 16) * (16 ** power)\n",
    "    print(decnum)\n",
    "\n",
    "hex_output()"
   ]
  },
  {
   "cell_type": "code",
   "execution_count": 104,
   "metadata": {},
   "outputs": [
    {
     "name": "stdout",
     "output_type": "stream",
     "text": [
      "Give me your name: KAROLINA\n",
      "K\n",
      "KA\n",
      "KAR\n",
      "KARO\n",
      "KAROL\n",
      "KAROLI\n",
      "KAROLIN\n",
      "KAROLINA\n"
     ]
    }
   ],
   "source": [
    "def name_triangle():\n",
    "    name = str(input(\"Give me your name: \"))\n",
    "    string =''\n",
    "    for letter in name:\n",
    "        string += letter\n",
    "        print(string)\n",
    "name_triangle()        "
   ]
  }
 ],
 "metadata": {
  "kernelspec": {
   "display_name": "Python 3",
   "language": "python",
   "name": "python3"
  },
  "language_info": {
   "codemirror_mode": {
    "name": "ipython",
    "version": 3
   },
   "file_extension": ".py",
   "mimetype": "text/x-python",
   "name": "python",
   "nbconvert_exporter": "python",
   "pygments_lexer": "ipython3",
   "version": "3.8.5"
  }
 },
 "nbformat": 4,
 "nbformat_minor": 4
}
